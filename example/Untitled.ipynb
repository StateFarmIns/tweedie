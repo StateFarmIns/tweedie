{
 "cells": [
  {
   "cell_type": "markdown",
   "metadata": {},
   "source": [
    "# Tweedie Density Estimation\n",
    "\n",
    "This package follows the following 2 papers to estimate the density of a presumed Tweedie distribution:\n",
    "\n",
    "    Dunn, Peter K. and Smyth, Gordon K. 2001, Tweedie Family Densities: Methods\n",
    "    of Evaluation\n",
    "\n",
    "    Dunn, Peter K. and Smyth, Gordon K. 2005, Series evaluation of Tweedie\n",
    "    exponential dispersion model densities\n",
    "\n",
    "Below, I'll demonstrate a relatively simple approach to estimating Tweedie density from a given distribution. First, I'm going to generate some data and try to fit a GLM on it."
   ]
  },
  {
   "cell_type": "code",
   "execution_count": 1,
   "metadata": {
    "collapsed": true
   },
   "outputs": [],
   "source": [
    "%matplotlib inline\n",
    "\n",
    "from __future__ import print_function\n",
    "\n",
    "import numpy as np\n",
    "import scipy as sp\n",
    "from tweedie import tweedie\n",
    "import seaborn as sns\n",
    "import statsmodels.api as sm"
   ]
  },
  {
   "cell_type": "code",
   "execution_count": 2,
   "metadata": {
    "collapsed": true
   },
   "outputs": [],
   "source": [
    "# Number of parameters for model\n",
    "p = 20\n",
    "\n",
    "# Number of simulated observations\n",
    "n = 100000\n",
    "\n",
    "np.random.seed(43)\n",
    "exog = np.random.rand(n, p - 1)\n",
    "exog = np.hstack((np.ones((n, 1)), exog))\n",
    "beta = np.concatenate(([500], np.random.randint(-100, 100, p - 1))) / 100\n",
    "eta = np.dot(exog, beta)\n",
    "mu = np.exp(eta)\n",
    "\n",
    "endog = tweedie(mu=mu, p=1.5, phi=20).rvs(n)"
   ]
  },
  {
   "cell_type": "markdown",
   "metadata": {},
   "source": [
    "And to prove this is a typical Tweedie distribution, we'll plot it. Notice that there's a big point of mass at exactly 0, and then some positive values. "
   ]
  },
  {
   "cell_type": "code",
   "execution_count": 3,
   "metadata": {},
   "outputs": [
    {
     "data": {
      "text/plain": [
       "<matplotlib.axes._subplots.AxesSubplot at 0x9c85518>"
      ]
     },
     "execution_count": 3,
     "metadata": {},
     "output_type": "execute_result"
    },
    {
     "data": {
      "image/png": "[encoded data removed]",
      "text/plain": [
       "<matplotlib.figure.Figure at 0x4c4a208>"
      ]
     },
     "metadata": {},
     "output_type": "display_data"
    }
   ],
   "source": [
    "sns.distplot(endog)"
   ]
  },
  {
   "cell_type": "code",
   "execution_count": 4,
   "metadata": {},
   "outputs": [
    {
     "data": {
      "text/plain": [
       "<matplotlib.axes._subplots.AxesSubplot at 0xa0d45f8>"
      ]
     },
     "execution_count": 4,
     "metadata": {},
     "output_type": "execute_result"
    },
    {
     "data": {
      "image/png": "[encoded data removed]",
      "text/plain": [
       "<matplotlib.figure.Figure at 0x8b392e8>"
      ]
     },
     "metadata": {},
     "output_type": "display_data"
    }
   ],
   "source": [
    "sns.distplot(endog[endog > 0])"
   ]
  },
  {
   "cell_type": "markdown",
   "metadata": {},
   "source": [
    "A typical problem would be to try to improve the GLM by choosing an appropriate value for the `var_power` parameter. That's often difficult, but it can be made easier by using the scipy's `minimize_scalar` function which will seek the best value of `p`. To show this works, let's initially set `p` to be some ludicrious value and see if the `minimize_scalar` moves us in the right direction."
   ]
  },
  {
   "cell_type": "code",
   "execution_count": 5,
   "metadata": {},
   "outputs": [
    {
     "name": "stdout",
     "output_type": "stream",
     "text": [
      "                 Generalized Linear Model Regression Results                  \n",
      "==============================================================================\n",
      "Dep. Variable:                      y   No. Observations:               100000\n",
      "Model:                            GLM   Df Residuals:                    99980\n",
      "Model Family:                 Tweedie   Df Model:                           19\n",
      "Link Function:                    log   Scale:                   113.453789434\n",
      "Method:                          IRLS   Log-Likelihood:                    nan\n",
      "Date:                Mon, 24 Apr 2017   Deviance:                   9.5545e+06\n",
      "Time:                        17:52:57   Pearson chi2:                 1.13e+07\n",
      "No. Iterations:                     6                                         \n",
      "==============================================================================\n",
      "                 coef    std err          z      P>|z|      [0.025      0.975]\n",
      "------------------------------------------------------------------------------\n",
      "const          5.0634      0.035    145.996      0.000       4.995       5.131\n",
      "x1             0.3728      0.016     23.421      0.000       0.342       0.404\n",
      "x2             0.5698      0.016     35.765      0.000       0.539       0.601\n",
      "x3             0.6701      0.016     41.863      0.000       0.639       0.701\n",
      "x4            -0.8728      0.016    -54.218      0.000      -0.904      -0.841\n",
      "x5             0.5345      0.016     33.572      0.000       0.503       0.566\n",
      "x6            -0.3665      0.016    -23.032      0.000      -0.398      -0.335\n",
      "x7            -0.3650      0.016    -22.987      0.000      -0.396      -0.334\n",
      "x8            -0.4150      0.016    -26.156      0.000      -0.446      -0.384\n",
      "x9            -0.6359      0.016    -39.790      0.000      -0.667      -0.605\n",
      "x10           -0.8903      0.016    -55.241      0.000      -0.922      -0.859\n",
      "x11            0.1132      0.016      7.123      0.000       0.082       0.144\n",
      "x12           -0.2390      0.016    -15.037      0.000      -0.270      -0.208\n",
      "x13           -0.2066      0.016    -13.009      0.000      -0.238      -0.175\n",
      "x14            0.6733      0.016     42.138      0.000       0.642       0.705\n",
      "x15            0.3821      0.016     24.027      0.000       0.351       0.413\n",
      "x16            0.3662      0.016     23.121      0.000       0.335       0.397\n",
      "x17           -0.8107      0.016    -50.410      0.000      -0.842      -0.779\n",
      "x18           -0.2769      0.016    -17.483      0.000      -0.308      -0.246\n",
      "x19           -0.2439      0.016    -15.403      0.000      -0.275      -0.213\n",
      "==============================================================================\n"
     ]
    }
   ],
   "source": [
    "res = sm.GLM(endog, exog, family=sm.families.Tweedie(link=sm.families.links.log, var_power=1.1)).fit()\n",
    "print(res.summary())"
   ]
  },
  {
   "cell_type": "code",
   "execution_count": 6,
   "metadata": {},
   "outputs": [
    {
     "name": "stdout",
     "output_type": "stream",
     "text": [
      "     fun: 481747.12621092948\n",
      " message: 'Solution found.'\n",
      "    nfev: 12\n",
      "  status: 0\n",
      " success: True\n",
      "       x: 1.3454076982488605\n"
     ]
    }
   ],
   "source": [
    "def loglike_p(p):\n",
    "    return -tweedie(mu=res.mu, p=p, phi=res.scale).logpdf(res._endog).sum()\n",
    "\n",
    "opt = sp.optimize.minimize_scalar(loglike_p, bounds=(1.05, 1.95), method='bounded')\n",
    "print(opt)"
   ]
  },
  {
   "cell_type": "markdown",
   "metadata": {},
   "source": [
    "Sure enough, we move in the right direction.\n",
    "\n",
    "Now, let's run the GLM using the updated value of `p`."
   ]
  },
  {
   "cell_type": "code",
   "execution_count": 7,
   "metadata": {},
   "outputs": [
    {
     "name": "stdout",
     "output_type": "stream",
     "text": [
      "                 Generalized Linear Model Regression Results                  \n",
      "==============================================================================\n",
      "Dep. Variable:                      y   No. Observations:               100000\n",
      "Model:                            GLM   Df Residuals:                    99980\n",
      "Model Family:                 Tweedie   Df Model:                           19\n",
      "Link Function:                    log   Scale:                   113.453789434\n",
      "Method:                          IRLS   Log-Likelihood:                    nan\n",
      "Date:                Mon, 24 Apr 2017   Deviance:                   9.5545e+06\n",
      "Time:                        17:53:08   Pearson chi2:                 1.13e+07\n",
      "No. Iterations:                     6                                         \n",
      "==============================================================================\n",
      "                 coef    std err          z      P>|z|      [0.025      0.975]\n",
      "------------------------------------------------------------------------------\n",
      "const          5.0634      0.035    145.996      0.000       4.995       5.131\n",
      "x1             0.3728      0.016     23.421      0.000       0.342       0.404\n",
      "x2             0.5698      0.016     35.765      0.000       0.539       0.601\n",
      "x3             0.6701      0.016     41.863      0.000       0.639       0.701\n",
      "x4            -0.8728      0.016    -54.218      0.000      -0.904      -0.841\n",
      "x5             0.5345      0.016     33.572      0.000       0.503       0.566\n",
      "x6            -0.3665      0.016    -23.032      0.000      -0.398      -0.335\n",
      "x7            -0.3650      0.016    -22.987      0.000      -0.396      -0.334\n",
      "x8            -0.4150      0.016    -26.156      0.000      -0.446      -0.384\n",
      "x9            -0.6359      0.016    -39.790      0.000      -0.667      -0.605\n",
      "x10           -0.8903      0.016    -55.241      0.000      -0.922      -0.859\n",
      "x11            0.1132      0.016      7.123      0.000       0.082       0.144\n",
      "x12           -0.2390      0.016    -15.037      0.000      -0.270      -0.208\n",
      "x13           -0.2066      0.016    -13.009      0.000      -0.238      -0.175\n",
      "x14            0.6733      0.016     42.138      0.000       0.642       0.705\n",
      "x15            0.3821      0.016     24.027      0.000       0.351       0.413\n",
      "x16            0.3662      0.016     23.121      0.000       0.335       0.397\n",
      "x17           -0.8107      0.016    -50.410      0.000      -0.842      -0.779\n",
      "x18           -0.2769      0.016    -17.483      0.000      -0.308      -0.246\n",
      "x19           -0.2439      0.016    -15.403      0.000      -0.275      -0.213\n",
      "==============================================================================\n",
      "     fun: 410898.54726265225\n",
      " message: 'Solution found.'\n",
      "    nfev: 11\n",
      "  status: 0\n",
      " success: True\n",
      "       x: 1.3741068903553528\n"
     ]
    }
   ],
   "source": [
    "res2 = sm.GLM(endog, exog, family=sm.families.Tweedie(link=sm.families.links.log, var_power=opt.x)).fit()\n",
    "print(res.summary())\n",
    "\n",
    "def loglike_p(p):\n",
    "    return -tweedie(mu=res2.mu, p=p, phi=res2.scale).logpdf(res2._endog).sum()\n",
    "\n",
    "opt2 = sp.optimize.minimize_scalar(loglike_p, bounds=(1.05, 1.95), method='bounded')\n",
    "print(opt2)"
   ]
  },
  {
   "cell_type": "markdown",
   "metadata": {},
   "source": [
    "Still moving in the right direction."
   ]
  },
  {
   "cell_type": "code",
   "execution_count": 8,
   "metadata": {},
   "outputs": [
    {
     "name": "stdout",
     "output_type": "stream",
     "text": [
      "                 Generalized Linear Model Regression Results                  \n",
      "==============================================================================\n",
      "Dep. Variable:                      y   No. Observations:               100000\n",
      "Model:                            GLM   Df Residuals:                    99980\n",
      "Model Family:                 Tweedie   Df Model:                           19\n",
      "Link Function:                    log   Scale:                   113.453789434\n",
      "Method:                          IRLS   Log-Likelihood:                    nan\n",
      "Date:                Mon, 24 Apr 2017   Deviance:                   9.5545e+06\n",
      "Time:                        17:53:18   Pearson chi2:                 1.13e+07\n",
      "No. Iterations:                     6                                         \n",
      "==============================================================================\n",
      "                 coef    std err          z      P>|z|      [0.025      0.975]\n",
      "------------------------------------------------------------------------------\n",
      "const          5.0634      0.035    145.996      0.000       4.995       5.131\n",
      "x1             0.3728      0.016     23.421      0.000       0.342       0.404\n",
      "x2             0.5698      0.016     35.765      0.000       0.539       0.601\n",
      "x3             0.6701      0.016     41.863      0.000       0.639       0.701\n",
      "x4            -0.8728      0.016    -54.218      0.000      -0.904      -0.841\n",
      "x5             0.5345      0.016     33.572      0.000       0.503       0.566\n",
      "x6            -0.3665      0.016    -23.032      0.000      -0.398      -0.335\n",
      "x7            -0.3650      0.016    -22.987      0.000      -0.396      -0.334\n",
      "x8            -0.4150      0.016    -26.156      0.000      -0.446      -0.384\n",
      "x9            -0.6359      0.016    -39.790      0.000      -0.667      -0.605\n",
      "x10           -0.8903      0.016    -55.241      0.000      -0.922      -0.859\n",
      "x11            0.1132      0.016      7.123      0.000       0.082       0.144\n",
      "x12           -0.2390      0.016    -15.037      0.000      -0.270      -0.208\n",
      "x13           -0.2066      0.016    -13.009      0.000      -0.238      -0.175\n",
      "x14            0.6733      0.016     42.138      0.000       0.642       0.705\n",
      "x15            0.3821      0.016     24.027      0.000       0.351       0.413\n",
      "x16            0.3662      0.016     23.121      0.000       0.335       0.397\n",
      "x17           -0.8107      0.016    -50.410      0.000      -0.842      -0.779\n",
      "x18           -0.2769      0.016    -17.483      0.000      -0.308      -0.246\n",
      "x19           -0.2439      0.016    -15.403      0.000      -0.275      -0.213\n",
      "==============================================================================\n",
      "     fun: 407679.78651045624\n",
      " message: 'Solution found.'\n",
      "    nfev: 9\n",
      "  status: 0\n",
      " success: True\n",
      "       x: 1.3933801324974868\n"
     ]
    }
   ],
   "source": [
    "res3 = sm.GLM(endog, exog, family=sm.families.Tweedie(link=sm.families.links.log, var_power=opt2.x)).fit()\n",
    "print(res.summary())\n",
    "\n",
    "def loglike_p(p):\n",
    "    return -tweedie(mu=res3.mu, p=p, phi=res3.scale).logpdf(res3._endog).sum()\n",
    "\n",
    "opt3 = sp.optimize.minimize_scalar(loglike_p, bounds=(1.05, 1.95), method='bounded')\n",
    "print(opt3)"
   ]
  },
  {
   "cell_type": "markdown",
   "metadata": {},
   "source": [
    "Still moving... After enough back-and-forth guesses, you should approach the optimal `p`. For reasons I don't fully understand, the estimated `p` won't quite match the initial guess provided earlier. But we are moving in the right direction!"
   ]
  }
 ],
 "metadata": {
  "kernelspec": {
   "display_name": "Python 3",
   "language": "python",
   "name": "python3"
  },
  "language_info": {
   "codemirror_mode": {
    "name": "ipython",
    "version": 3
   },
   "file_extension": ".py",
   "mimetype": "text/x-python",
   "name": "python",
   "nbconvert_exporter": "python",
   "pygments_lexer": "ipython3",
   "version": "3.6.1"
  }
 },
 "nbformat": 4,
 "nbformat_minor": 2
}
